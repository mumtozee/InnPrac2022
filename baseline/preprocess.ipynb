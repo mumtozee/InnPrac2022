{
 "cells": [
  {
   "cell_type": "code",
   "execution_count": 1,
   "metadata": {},
   "outputs": [],
   "source": [
    "import pandas as pd\n",
    "import numpy as np\n",
    "\n",
    "from datasets import load_dataset"
   ]
  },
  {
   "cell_type": "code",
   "execution_count": 2,
   "metadata": {},
   "outputs": [],
   "source": [
    "EOS_TOKEN = \"<|endoftext|>\""
   ]
  },
  {
   "cell_type": "code",
   "execution_count": 3,
   "metadata": {},
   "outputs": [
    {
     "name": "stderr",
     "output_type": "stream",
     "text": [
      "/home/admin/miniconda3/envs/innprac37/lib/python3.7/site-packages/cryptography/hazmat/backends/openssl/x509.py:17: CryptographyDeprecationWarning: This version of cryptography contains a temporary pyOpenSSL fallback path. Upgrade pyOpenSSL now.\n",
      "  utils.DeprecatedIn35,\n",
      "Using custom data configuration default\n",
      "Reusing dataset daily_dialog (/home/admin/.cache/huggingface/datasets/daily_dialog/default/1.0.0/c03444008e9508b8b76f1f6793742d37d5e5f83364f8d573c2747bff435ea55c)\n"
     ]
    },
    {
     "data": {
      "application/vnd.jupyter.widget-view+json": {
       "model_id": "f290cc84059348b8a535d29077932f2d",
       "version_major": 2,
       "version_minor": 0
      },
      "text/plain": [
       "  0%|          | 0/3 [00:00<?, ?it/s]"
      ]
     },
     "metadata": {},
     "output_type": "display_data"
    },
    {
     "data": {
      "text/plain": [
       "DatasetDict({\n",
       "    train: Dataset({\n",
       "        features: ['dialog', 'act', 'emotion'],\n",
       "        num_rows: 11118\n",
       "    })\n",
       "    test: Dataset({\n",
       "        features: ['dialog', 'act', 'emotion'],\n",
       "        num_rows: 1000\n",
       "    })\n",
       "    validation: Dataset({\n",
       "        features: ['dialog', 'act', 'emotion'],\n",
       "        num_rows: 1000\n",
       "    })\n",
       "})"
      ]
     },
     "execution_count": 3,
     "metadata": {},
     "output_type": "execute_result"
    }
   ],
   "source": [
    "dd = load_dataset(\"daily_dialog\")\n",
    "dd"
   ]
  },
  {
   "cell_type": "code",
   "execution_count": 4,
   "metadata": {},
   "outputs": [],
   "source": [
    "def show_dialog(item):\n",
    "  chatters = ['A', 'B']\n",
    "  i = 0\n",
    "  for j, utt in enumerate(item['dialog']):\n",
    "    print(f\"{chatters[i]}: {utt} [{item['act'][j]} {item['emotion'][j]}]\")\n",
    "    i += 1\n",
    "    i %= 2"
   ]
  },
  {
   "cell_type": "code",
   "execution_count": 5,
   "metadata": {},
   "outputs": [
    {
     "name": "stdout",
     "output_type": "stream",
     "text": [
      "A: Say , Jim , how about going for a few beers after dinner ?  [3 0]\n",
      "B:  You know that is tempting but is really not good for our fitness .  [4 0]\n",
      "A:  What do you mean ? It will help us to relax .  [2 0]\n",
      "B:  Do you really think so ? I don't . It will just make us fat and act silly . Remember last time ?  [2 0]\n",
      "A:  I guess you are right.But what shall we do ? I don't feel like sitting at home .  [2 0]\n",
      "B:  I suggest a walk over to the gym where we can play singsong and meet some of our friends .  [3 0]\n",
      "A:  That's a good idea . I hear Mary and Sally often go there to play pingpong.Perhaps we can make a foursome with them .  [4 4]\n",
      "B:  Sounds great to me ! If they are willing , we could ask them to go dancing with us.That is excellent exercise and fun , too .  [1 4]\n",
      "A:  Good.Let ' s go now .  [3 4]\n",
      "B:  All right .  [4 4]\n"
     ]
    }
   ],
   "source": [
    "show_dialog(next(iter(dd[\"train\"])))"
   ]
  },
  {
   "cell_type": "code",
   "execution_count": 8,
   "metadata": {},
   "outputs": [],
   "source": [
    "def add_prompt(batch):\n",
    "  dialogs = batch[\"dialog\"]\n",
    "  acts = batch[\"act\"]\n",
    "  for i in range(len(dialogs)):\n",
    "    for j in range(len(dialogs[i])):\n",
    "      batch[\"dialog\"][i][j] = \"\".join([f\"[DA_{acts[i][j]}] \", dialogs[i][j], EOS_TOKEN])\n",
    "  return batch"
   ]
  },
  {
   "cell_type": "code",
   "execution_count": 9,
   "metadata": {},
   "outputs": [
    {
     "data": {
      "application/vnd.jupyter.widget-view+json": {
       "model_id": "efb346a7c42b4386aec6c8754f935c14",
       "version_major": 2,
       "version_minor": 0
      },
      "text/plain": [
       "  0%|          | 0/12 [00:00<?, ?ba/s]"
      ]
     },
     "metadata": {},
     "output_type": "display_data"
    },
    {
     "data": {
      "application/vnd.jupyter.widget-view+json": {
       "model_id": "fcef7f756f164beeadab65440b8e1d58",
       "version_major": 2,
       "version_minor": 0
      },
      "text/plain": [
       "  0%|          | 0/1 [00:00<?, ?ba/s]"
      ]
     },
     "metadata": {},
     "output_type": "display_data"
    },
    {
     "data": {
      "application/vnd.jupyter.widget-view+json": {
       "model_id": "6a8359c10322450fbc6faee5ec48710d",
       "version_major": 2,
       "version_minor": 0
      },
      "text/plain": [
       "  0%|          | 0/1 [00:00<?, ?ba/s]"
      ]
     },
     "metadata": {},
     "output_type": "display_data"
    }
   ],
   "source": [
    "prompted_dd = dd.map(add_prompt, batched=True)"
   ]
  },
  {
   "cell_type": "code",
   "execution_count": 22,
   "metadata": {},
   "outputs": [
    {
     "name": "stdout",
     "output_type": "stream",
     "text": [
      "A: [DA_3] Say , Jim , how about going for a few beers after dinner ? <|endoftext|> [3 0]\n",
      "B: [DA_4]  You know that is tempting but is really not good for our fitness . <|endoftext|> [4 0]\n",
      "A: [DA_2]  What do you mean ? It will help us to relax . <|endoftext|> [2 0]\n",
      "B: [DA_2]  Do you really think so ? I don't . It will just make us fat and act silly . Remember last time ? <|endoftext|> [2 0]\n",
      "A: [DA_2]  I guess you are right.But what shall we do ? I don't feel like sitting at home . <|endoftext|> [2 0]\n",
      "B: [DA_3]  I suggest a walk over to the gym where we can play singsong and meet some of our friends . <|endoftext|> [3 0]\n",
      "A: [DA_4]  That's a good idea . I hear Mary and Sally often go there to play pingpong.Perhaps we can make a foursome with them . <|endoftext|> [4 4]\n",
      "B: [DA_1]  Sounds great to me ! If they are willing , we could ask them to go dancing with us.That is excellent exercise and fun , too . <|endoftext|> [1 4]\n",
      "A: [DA_3]  Good.Let ' s go now . <|endoftext|> [3 4]\n",
      "B: [DA_4]  All right . <|endoftext|> [4 4]\n"
     ]
    }
   ],
   "source": [
    "show_dialog(next(iter(prompted_dd[\"train\"])))"
   ]
  },
  {
   "cell_type": "code",
   "execution_count": 29,
   "metadata": {},
   "outputs": [],
   "source": [
    "train = {\n",
    "  \"history\": [],\n",
    "  \"response\": [],\n",
    "  \"da\": []\n",
    "}\n",
    "\n",
    "test = {\n",
    "    \"history\": [],\n",
    "    \"response\": [],\n",
    "    \"da\": []\n",
    "}\n",
    "\n",
    "val = {\n",
    "  \"history\": [],\n",
    "  \"response\": [],\n",
    "  \"da\": []\n",
    "}"
   ]
  },
  {
   "cell_type": "code",
   "execution_count": 30,
   "metadata": {},
   "outputs": [],
   "source": [
    "def make_history(dialog):\n",
    "  assert len(dialog) >= 2\n",
    "  history = [None] * (len(dialog) - 1)\n",
    "  response = [None] * (len(dialog) - 1)\n",
    "  history[0] = dialog[0]\n",
    "  response[0] = dialog[1]\n",
    "  for j in range(1, len(dialog) - 1):\n",
    "    history[j] = \"\".join([history[j - 1], response[j - 1]])\n",
    "    response[j] = dialog[j + 1]\n",
    "  return history, response\n",
    "  \n",
    "\n",
    "def dataset_to_dict(src):\n",
    "  dest = {\n",
    "    \"history\": [],\n",
    "    \"response\": [],\n",
    "    \"da\": []\n",
    "  }\n",
    "  for item in src:\n",
    "    history, response = make_history(item[\"dialog\"])\n",
    "    dest[\"history\"].extend(history)\n",
    "    dest[\"response\"].extend(response)\n",
    "    dest[\"da\"].extend(item[\"act\"][1:])\n",
    "  return dest"
   ]
  },
  {
   "cell_type": "code",
   "execution_count": 33,
   "metadata": {},
   "outputs": [
    {
     "data": {
      "text/plain": [
       "(76052, 6740, 7069)"
      ]
     },
     "execution_count": 33,
     "metadata": {},
     "output_type": "execute_result"
    }
   ],
   "source": [
    "train = dataset_to_dict(prompted_dd[\"train\"])\n",
    "test = dataset_to_dict(prompted_dd[\"test\"])\n",
    "val = dataset_to_dict(prompted_dd[\"validation\"])\n",
    "(len(train[\"da\"]), len(test[\"da\"]), len(val[\"da\"]))"
   ]
  },
  {
   "cell_type": "code",
   "execution_count": 42,
   "metadata": {},
   "outputs": [],
   "source": [
    "import os\n",
    "\n",
    "def save_dataset(data: dict, path):\n",
    "  print(f\"Saving to {path}\")\n",
    "  with open(path, \"w\") as f:\n",
    "    df = pd.DataFrame(data)\n",
    "    df.to_csv(f, index=False, sep=\";\")\n",
    "  print(\"Saved\")"
   ]
  },
  {
   "cell_type": "code",
   "execution_count": 43,
   "metadata": {},
   "outputs": [
    {
     "name": "stdout",
     "output_type": "stream",
     "text": [
      "Saving to ../data/da_prompts/train.csv\n",
      "Saved\n",
      "Saving to ../data/da_prompts/test.csv\n",
      "Saved\n",
      "Saving to ../data/da_prompts/val.csv\n",
      "Saved\n"
     ]
    }
   ],
   "source": [
    "save_dataset(train, \"../data/da_prompts/train.csv\")\n",
    "save_dataset(test, \"../data/da_prompts/test.csv\")\n",
    "save_dataset(val, \"../data/da_prompts/val.csv\")"
   ]
  },
  {
   "cell_type": "code",
   "execution_count": null,
   "metadata": {},
   "outputs": [],
   "source": []
  }
 ],
 "metadata": {
  "interpreter": {
   "hash": "0c1bfc040c8730cbad4faf7377a613dba97918ee4b58dbc69c3143dc60c27424"
  },
  "kernelspec": {
   "display_name": "Python 3.7.11 ('innprac37')",
   "language": "python",
   "name": "python3"
  },
  "language_info": {
   "codemirror_mode": {
    "name": "ipython",
    "version": 3
   },
   "file_extension": ".py",
   "mimetype": "text/x-python",
   "name": "python",
   "nbconvert_exporter": "python",
   "pygments_lexer": "ipython3",
   "version": "3.7.11"
  },
  "orig_nbformat": 4
 },
 "nbformat": 4,
 "nbformat_minor": 2
}
